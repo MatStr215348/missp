{
  "nbformat": 4,
  "nbformat_minor": 0,
  "metadata": {
    "colab": {
      "name": "LAB3-programowanie_liniowe21.10.20.ipynb",
      "provenance": [],
      "collapsed_sections": []
    },
    "kernelspec": {
      "name": "python3",
      "display_name": "Python 3"
    }
  },
  "cells": [
    {
      "cell_type": "code",
      "metadata": {
        "id": "_VwzsJS88R7w"
      },
      "source": [
        "### ! - daje odwolanie do czegos w systemie, w chmurze trzeba kliknac pip, bo w chmurze na kilka godzin sie instaluje"
      ],
      "execution_count": null,
      "outputs": []
    },
    {
      "cell_type": "code",
      "metadata": {
        "id": "DJQ_QkAn8mme",
        "colab": {
          "base_uri": "https://localhost:8080/"
        },
        "outputId": "16cb9fca-f668-4adf-b06e-bf4362e13b92"
      },
      "source": [
        "## Instalacja pulpa\n",
        "!pip install pulp "
      ],
      "execution_count": null,
      "outputs": [
        {
          "output_type": "stream",
          "text": [
            "Collecting pulp\n",
            "\u001b[?25l  Downloading https://files.pythonhosted.org/packages/89/0c/6d80f5f81a92d1733cc5ca180491b8a3cd5839e335627a0046c81b7d3d3d/PuLP-2.3.1-py3-none-any.whl (40.6MB)\n",
            "\u001b[K     |████████████████████████████████| 40.6MB 104kB/s \n",
            "\u001b[?25hCollecting amply>=0.1.2\n",
            "  Downloading https://files.pythonhosted.org/packages/f3/c5/dfa09dd2595a2ab2ab4e6fa7bebef9565812722e1980d04b0edce5032066/amply-0.1.4-py3-none-any.whl\n",
            "Requirement already satisfied: docutils>=0.3 in /usr/local/lib/python3.6/dist-packages (from amply>=0.1.2->pulp) (0.16)\n",
            "Requirement already satisfied: pyparsing in /usr/local/lib/python3.6/dist-packages (from amply>=0.1.2->pulp) (2.4.7)\n",
            "Installing collected packages: amply, pulp\n",
            "Successfully installed amply-0.1.4 pulp-2.3.1\n"
          ],
          "name": "stdout"
        }
      ]
    },
    {
      "cell_type": "code",
      "metadata": {
        "id": "YaZxqhx69YY4",
        "colab": {
          "base_uri": "https://localhost:8080/"
        },
        "outputId": "5559d798-7e60-4f89-8ed2-e16c4fecdeda"
      },
      "source": [
        "##Importowanie pulpa\n",
        "import pulp\n",
        "print(pulp.__version__)"
      ],
      "execution_count": null,
      "outputs": [
        {
          "output_type": "stream",
          "text": [
            "2.3.1\n"
          ],
          "name": "stdout"
        }
      ]
    },
    {
      "cell_type": "code",
      "metadata": {
        "id": "milvtO5E9gOg",
        "colab": {
          "base_uri": "https://localhost:8080/"
        },
        "outputId": "06549975-8c10-4057-97ab-92800a7a4e9b"
      },
      "source": [
        "##Instalacja Sudo\n",
        "!sudo apt-get install coinor-cbc glpk-utils coinor-clp"
      ],
      "execution_count": null,
      "outputs": [
        {
          "output_type": "stream",
          "text": [
            "Reading package lists... Done\n",
            "Building dependency tree       \n",
            "Reading state information... Done\n",
            "The following additional packages will be installed:\n",
            "  coinor-libcbc3 coinor-libcgl1 coinor-libclp1 coinor-libcoinutils3v5\n",
            "  coinor-libosi1v5 libamd2 libcolamd2 libglpk40 libsuitesparseconfig5\n",
            "Suggested packages:\n",
            "  libiodbc2-dev default-libmysqlclient-dev\n",
            "The following NEW packages will be installed:\n",
            "  coinor-cbc coinor-clp coinor-libcbc3 coinor-libcgl1 coinor-libclp1\n",
            "  coinor-libcoinutils3v5 coinor-libosi1v5 glpk-utils libamd2 libcolamd2\n",
            "  libglpk40 libsuitesparseconfig5\n",
            "0 upgraded, 12 newly installed, 0 to remove and 14 not upgraded.\n",
            "Need to get 3,439 kB of archives.\n",
            "After this operation, 9,832 kB of additional disk space will be used.\n",
            "Get:1 http://archive.ubuntu.com/ubuntu bionic/main amd64 libsuitesparseconfig5 amd64 1:5.1.2-2 [9,044 B]\n",
            "Get:2 http://archive.ubuntu.com/ubuntu bionic/main amd64 libamd2 amd64 1:5.1.2-2 [19.5 kB]\n",
            "Get:3 http://archive.ubuntu.com/ubuntu bionic/main amd64 libcolamd2 amd64 1:5.1.2-2 [16.2 kB]\n",
            "Get:4 http://archive.ubuntu.com/ubuntu bionic/universe amd64 libglpk40 amd64 4.65-1 [378 kB]\n",
            "Get:5 http://archive.ubuntu.com/ubuntu bionic/universe amd64 glpk-utils amd64 4.65-1 [269 kB]\n",
            "Get:6 http://archive.ubuntu.com/ubuntu bionic/universe amd64 coinor-libcoinutils3v5 amd64 2.10.14+repack1-1 [472 kB]\n",
            "Get:7 http://archive.ubuntu.com/ubuntu bionic/universe amd64 coinor-libosi1v5 amd64 0.107.9+repack1-1 [270 kB]\n",
            "Get:8 http://archive.ubuntu.com/ubuntu bionic/universe amd64 coinor-libclp1 amd64 1.16.11+repack1-1 [863 kB]\n",
            "Get:9 http://archive.ubuntu.com/ubuntu bionic/universe amd64 coinor-libcgl1 amd64 0.59.10+repack1-1 [433 kB]\n",
            "Get:10 http://archive.ubuntu.com/ubuntu bionic/universe amd64 coinor-libcbc3 amd64 2.9.9+repack1-1 [687 kB]\n",
            "Get:11 http://archive.ubuntu.com/ubuntu bionic/universe amd64 coinor-cbc amd64 2.9.9+repack1-1 [11.2 kB]\n",
            "Get:12 http://archive.ubuntu.com/ubuntu bionic/universe amd64 coinor-clp amd64 1.16.11+repack1-1 [9,646 B]\n",
            "Fetched 3,439 kB in 1s (2,996 kB/s)\n",
            "debconf: unable to initialize frontend: Dialog\n",
            "debconf: (No usable dialog-like program is installed, so the dialog based frontend cannot be used. at /usr/share/perl5/Debconf/FrontEnd/Dialog.pm line 76, <> line 12.)\n",
            "debconf: falling back to frontend: Readline\n",
            "debconf: unable to initialize frontend: Readline\n",
            "debconf: (This frontend requires a controlling tty.)\n",
            "debconf: falling back to frontend: Teletype\n",
            "dpkg-preconfigure: unable to re-open stdin: \n",
            "Selecting previously unselected package libsuitesparseconfig5:amd64.\n",
            "(Reading database ... 144793 files and directories currently installed.)\n",
            "Preparing to unpack .../00-libsuitesparseconfig5_1%3a5.1.2-2_amd64.deb ...\n",
            "Unpacking libsuitesparseconfig5:amd64 (1:5.1.2-2) ...\n",
            "Selecting previously unselected package libamd2:amd64.\n",
            "Preparing to unpack .../01-libamd2_1%3a5.1.2-2_amd64.deb ...\n",
            "Unpacking libamd2:amd64 (1:5.1.2-2) ...\n",
            "Selecting previously unselected package libcolamd2:amd64.\n",
            "Preparing to unpack .../02-libcolamd2_1%3a5.1.2-2_amd64.deb ...\n",
            "Unpacking libcolamd2:amd64 (1:5.1.2-2) ...\n",
            "Selecting previously unselected package libglpk40:amd64.\n",
            "Preparing to unpack .../03-libglpk40_4.65-1_amd64.deb ...\n",
            "Unpacking libglpk40:amd64 (4.65-1) ...\n",
            "Selecting previously unselected package glpk-utils.\n",
            "Preparing to unpack .../04-glpk-utils_4.65-1_amd64.deb ...\n",
            "Unpacking glpk-utils (4.65-1) ...\n",
            "Selecting previously unselected package coinor-libcoinutils3v5.\n",
            "Preparing to unpack .../05-coinor-libcoinutils3v5_2.10.14+repack1-1_amd64.deb ...\n",
            "Unpacking coinor-libcoinutils3v5 (2.10.14+repack1-1) ...\n",
            "Selecting previously unselected package coinor-libosi1v5.\n",
            "Preparing to unpack .../06-coinor-libosi1v5_0.107.9+repack1-1_amd64.deb ...\n",
            "Unpacking coinor-libosi1v5 (0.107.9+repack1-1) ...\n",
            "Selecting previously unselected package coinor-libclp1.\n",
            "Preparing to unpack .../07-coinor-libclp1_1.16.11+repack1-1_amd64.deb ...\n",
            "Unpacking coinor-libclp1 (1.16.11+repack1-1) ...\n",
            "Selecting previously unselected package coinor-libcgl1.\n",
            "Preparing to unpack .../08-coinor-libcgl1_0.59.10+repack1-1_amd64.deb ...\n",
            "Unpacking coinor-libcgl1 (0.59.10+repack1-1) ...\n",
            "Selecting previously unselected package coinor-libcbc3.\n",
            "Preparing to unpack .../09-coinor-libcbc3_2.9.9+repack1-1_amd64.deb ...\n",
            "Unpacking coinor-libcbc3 (2.9.9+repack1-1) ...\n",
            "Selecting previously unselected package coinor-cbc.\n",
            "Preparing to unpack .../10-coinor-cbc_2.9.9+repack1-1_amd64.deb ...\n",
            "Unpacking coinor-cbc (2.9.9+repack1-1) ...\n",
            "Selecting previously unselected package coinor-clp.\n",
            "Preparing to unpack .../11-coinor-clp_1.16.11+repack1-1_amd64.deb ...\n",
            "Unpacking coinor-clp (1.16.11+repack1-1) ...\n",
            "Setting up libsuitesparseconfig5:amd64 (1:5.1.2-2) ...\n",
            "Setting up libcolamd2:amd64 (1:5.1.2-2) ...\n",
            "Setting up coinor-libcoinutils3v5 (2.10.14+repack1-1) ...\n",
            "Setting up coinor-libosi1v5 (0.107.9+repack1-1) ...\n",
            "Setting up coinor-libclp1 (1.16.11+repack1-1) ...\n",
            "Setting up libamd2:amd64 (1:5.1.2-2) ...\n",
            "Setting up coinor-libcgl1 (0.59.10+repack1-1) ...\n",
            "Setting up libglpk40:amd64 (4.65-1) ...\n",
            "Setting up coinor-clp (1.16.11+repack1-1) ...\n",
            "Setting up coinor-libcbc3 (2.9.9+repack1-1) ...\n",
            "Setting up glpk-utils (4.65-1) ...\n",
            "Setting up coinor-cbc (2.9.9+repack1-1) ...\n",
            "Processing triggers for man-db (2.8.3-2ubuntu0.1) ...\n",
            "Processing triggers for libc-bin (2.27-3ubuntu1.2) ...\n",
            "/sbin/ldconfig.real: /usr/local/lib/python3.6/dist-packages/ideep4py/lib/libmkldnn.so.0 is not a symbolic link\n",
            "\n"
          ],
          "name": "stdout"
        }
      ]
    },
    {
      "cell_type": "code",
      "metadata": {
        "id": "VKxiUP4f_4JG",
        "colab": {
          "base_uri": "https://localhost:8080/"
        },
        "outputId": "bba7719a-85d8-4665-f890-94ab161c830e"
      },
      "source": [
        "### Celem tego ćwiczenia było zapoznanie się z gotowym problemem liniowym i dodanie nowych ograniczeń w postaci wymogu chemicznego i dla witaminy B.\n",
        "### Najpierw trzeba zaimportowac pulp, aby kod realizujący problem liniowy się skompilował.\n",
        "from pulp import *\n",
        "# Tworzenie zmiennej „prob”, aby zawierała dane dotyczące problemu liniowego, który zostanie wykonany\n",
        "prob = LpProblem(\"The Whiskas Problem\",LpMinimize) ## LpMinimize służy do określenia wartości minimalnej, jakby było Maximize to do maksymalnej\n",
        "# Dwie zmienne decyzyjne Wołowina i Kurczak są tworzone z dolnym limitem zerowym\n",
        "x1=LpVariable(\"ChickenPercent\",0.3,None,LpInteger)\n",
        "x2=LpVariable(\"BeefPercent\",2.6)\n",
        "x3=LpVariable(\"Procent_Chemii\",1)\n",
        "x4=LpVariable(\"Procent_Mutton\",2.6)\n",
        "x5=LpVariable(\"Sardynki\",8.9)\n",
        "\n",
        "#Zdefiniowanie funkcji zysku\n",
        "prob += 0.013*x1 + 0.008*x2, \"Total Cost of Ingredients per can\"\n",
        "#W tym miejscu zostało wprowadzonych początkowo 5 ograniczeń, jednak następnie należało dodać kolejne 2 w celu ukazania wymogu chemicznego i dla witaminy B.\n",
        "prob += x1 + x2 == 100, \"PercentagesSum\"\n",
        "prob += 0.100*x1 + 0.200*x2 >= 8.0, \"ProteinRequirement\"\n",
        "prob += 0.080*x1 + 0.100*x2 >= 6.0, \"FatRequirement\"\n",
        "prob += 0.001*x1 + 0.005*x2 <= 2.0, \"FibreRequirement\"\n",
        "prob += 0.002*x1 + 0.005*x2 <= 0.4, \"SaltRequirement\"\n",
        "prob += 1000*x1 + 0.0076*x2 + 200000*x3 <= 1, \"wymogchemiczny\"\n",
        "prob += 0.002*x1 + 0.0002*x2 +0.005*x3 + 0.005*x4 + 0.079*x5 <=1, \"witaminaB\"\n",
        "# Dane problemu są zapisywane w pliku .lp\n",
        "prob.writeLP(\"WhiskasModel.lp\")\n",
        "# Problem został rozwiązany przy użyciu Solvera wybranego przez PuLP\n",
        "prob.solve()\n",
        "# Stan rozwiązania jest pokazywany poniżej po skompilowaniu\n",
        "print(\"Status:\", LpStatus[prob.status])\n",
        "for v in prob.variables():\n",
        "    print(v.name, \"=\", v.varValue)\n",
        "\n",
        "# Zoptymalizowana wartość funkcji zysku jest drukowana na ekranie\n",
        "print(\"Total Cost of Ingredients per can = \", value(prob.objective))\n",
        "\n",
        "## Jak widać program działa prawidłowo. Po zmianie mnożników w ograniczeniach wartości się zmieniają liniowo.\n"
      ],
      "execution_count": null,
      "outputs": [
        {
          "output_type": "stream",
          "text": [
            "Status: Infeasible\n",
            "BeefPercent = 66.666667\n",
            "ChickenPercent = 33.333333\n",
            "Procent_Chemii = 1.0\n",
            "Procent_Mutton = 2.6\n",
            "Sardynki = 8.9\n",
            "Total Cost of Ingredients per can =  0.966666665\n"
          ],
          "name": "stdout"
        },
        {
          "output_type": "stream",
          "text": [
            "/usr/local/lib/python3.6/dist-packages/pulp/pulp.py:1198: UserWarning: Spaces are not permitted in the name. Converted to '_'\n",
            "  warnings.warn(\"Spaces are not permitted in the name. Converted to '_'\")\n"
          ],
          "name": "stderr"
        }
      ]
    },
    {
      "cell_type": "code",
      "metadata": {
        "id": "3iG1DVu4JVGl",
        "colab": {
          "base_uri": "https://localhost:8080/"
        },
        "outputId": "0bc97fc1-d253-4a08-ed1a-1bd6f25d78d4"
      },
      "source": [
        "### Ten kod jest wersją rozbudowaną tego powyższego\n",
        "\"\"\"\n",
        "The Full Whiskas Model Python Formulation for the PuLP Modeller\n",
        "\n",
        "Authors: Antony Phillips, Dr Stuart Mitchell  2007\n",
        "\"\"\"\n",
        "\n",
        "# Import PuLP modeler functions\n",
        "from pulp import *\n",
        "\n",
        "# Creates a list of the Ingredients\n",
        "Ingredients = ['CHICKEN', 'BEEF', 'MUTTON', 'RICE', 'WHEAT', 'GEL']\n",
        "\n",
        "# A dictionary of the costs of each of the Ingredients is created\n",
        "costs = {'CHICKEN': 0.013, \n",
        "         'BEEF': 0.008, \n",
        "         'MUTTON': 0.010, \n",
        "         'RICE': 0.002, \n",
        "         'WHEAT': 0.005, \n",
        "         'GEL': 0.001}\n",
        "\n",
        "# A dictionary of the protein percent in each of the Ingredients is created\n",
        "proteinPercent = {'CHICKEN': 0.100, \n",
        "                  'BEEF': 0.200, \n",
        "                  'MUTTON': 0.150, \n",
        "                  'RICE': 0.000, \n",
        "                  'WHEAT': 0.040, \n",
        "                  'GEL': 0.000}\n",
        "\n",
        "# A dictionary of the fat percent in each of the Ingredients is created\n",
        "fatPercent = {'CHICKEN': 0.080, \n",
        "              'BEEF': 0.100, \n",
        "              'MUTTON': 0.110, \n",
        "              'RICE': 0.010, \n",
        "              'WHEAT': 0.010, \n",
        "              'GEL': 0.000}\n",
        "\n",
        "# A dictionary of the fibre percent in each of the Ingredients is created\n",
        "fibrePercent = {'CHICKEN': 0.001, \n",
        "                'BEEF': 0.005, \n",
        "                'MUTTON': 0.003, \n",
        "                'RICE': 0.100, \n",
        "                'WHEAT': 0.150, \n",
        "                'GEL': 0.000}\n",
        "\n",
        "# A dictionary of the salt percent in each of the Ingredients is created\n",
        "saltPercent = {'CHICKEN': 0.002, \n",
        "               'BEEF': 0.005, \n",
        "               'MUTTON': 0.007, \n",
        "               'RICE': 0.002, \n",
        "               'WHEAT': 0.008, \n",
        "               'GEL': 0.000}\n",
        "\n",
        "# Create the 'prob' variable to contain the problem data\n",
        "prob = LpProblem(\"The Whiskas Problem\", LpMinimize)\n",
        "# A dictionary called 'ingredient_vars' is created to contain the referenced Variables\n",
        "ingredient_vars = LpVariable.dicts(\"Ingr\",Ingredients,0)\n",
        "# The objective function is added to 'prob' first\n",
        "prob += lpSum([costs[i]*ingredient_vars[i] for i in Ingredients]), \"Total Cost of Ingredients per can\"\n",
        "# The five constraints are added to 'prob'\n",
        "prob += lpSum([ingredient_vars[i] for i in Ingredients]) == 100, \"PercentagesSum\"\n",
        "prob += lpSum([proteinPercent[i] * ingredient_vars[i] for i in Ingredients]) >= 8.0, \"ProteinRequirement\"\n",
        "prob += lpSum([fatPercent[i] * ingredient_vars[i] for i in Ingredients]) >= 6.0, \"FatRequirement\"\n",
        "prob += lpSum([fibrePercent[i] * ingredient_vars[i] for i in Ingredients]) <= 2.0, \"FibreRequirement\"\n",
        "prob += lpSum([saltPercent[i] * ingredient_vars[i] for i in Ingredients]) <= 0.4, \"SaltRequirement\""
      ],
      "execution_count": null,
      "outputs": [
        {
          "output_type": "stream",
          "text": [
            "/usr/local/lib/python3.6/dist-packages/pulp/pulp.py:1198: UserWarning: Spaces are not permitted in the name. Converted to '_'\n",
            "  warnings.warn(\"Spaces are not permitted in the name. Converted to '_'\")\n"
          ],
          "name": "stderr"
        }
      ]
    }
  ]
}