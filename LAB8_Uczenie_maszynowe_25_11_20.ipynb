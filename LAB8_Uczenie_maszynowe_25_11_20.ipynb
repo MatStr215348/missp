{
  "nbformat": 4,
  "nbformat_minor": 0,
  "metadata": {
    "colab": {
      "name": "LAB8-Uczenie maszynowe 25.11.20.ipynb",
      "provenance": [],
      "collapsed_sections": []
    },
    "kernelspec": {
      "name": "python3",
      "display_name": "Python 3"
    }
  },
  "cells": [
    {
      "cell_type": "code",
      "metadata": {
        "id": "HNGZIFli8Lqu"
      },
      "source": [
        "## Celem tego miniprojektu jest gra, której zadaniem jest umieszczenie na planszy określonej liczby swoich pionków w rzędzie poziomo, pionowo lub ukośnie na planszy przed przeciwnikiem.\n",
        "## Polega na wykonywaniu ruchu na zmianę z przeciwnikiem. Zasady są bliźniacze do gry w kółko i krzyżyk"
      ],
      "execution_count": null,
      "outputs": []
    },
    {
      "cell_type": "code",
      "metadata": {
        "id": "u4R9_hfp3DA0"
      },
      "source": [
        "pip install kaggle-environments"
      ],
      "execution_count": null,
      "outputs": []
    },
    {
      "cell_type": "code",
      "metadata": {
        "id": "QPslKKNVlC_K"
      },
      "source": [
        "#Zdefiniowanie środowiska ConnectX do wersji 0.1.6\n",
        "!pip install 'kaggle-environments>=0.1.6'\n",
        "\n"
      ],
      "execution_count": null,
      "outputs": []
    },
    {
      "cell_type": "code",
      "metadata": {
        "id": "xY82r7OqlTEp"
      },
      "source": [
        "#Tworzenie środowiska ConnectX\n",
        "from kaggle_environments import evaluate, make, utils\n",
        "\n",
        "env = make(\"connectx\", debug=True)\n",
        "env.render()"
      ],
      "execution_count": null,
      "outputs": []
    },
    {
      "cell_type": "code",
      "metadata": {
        "id": "a31XPMRplesp"
      },
      "source": [
        "#Tworzenie Agenta\n",
        "#Aby utworzyć zgłoszenie, funkcja agenta powinna być w pełni hermetyzowana (bez zewnętrznych zależności).\n",
        "#Gdy agent jest oceniany względem innych, nie będzie miał dostępu do obrazu dokowanego Kaggle.\n",
        "#Ten agent wybiera niepustą kolumnę\n",
        "def moj_agent(observation, configuration):\n",
        "    from random import choice\n",
        "    return choice([c for c in range(configuration.columns) if observation.board[c] == 0])\n",
        "\n"
      ],
      "execution_count": null,
      "outputs": []
    },
    {
      "cell_type": "code",
      "metadata": {
        "id": "hYBNUX9QljkO"
      },
      "source": [
        "#Testowanie agenta, tak jak jest to zamieszczone w poniższej animacji.\n",
        "env.reset()\n",
        "# Graj jako pierwszy agent przeciwko domyślnemu „losowemu” agentowi.\n",
        "env.run([moj_agent, \"random\"])\n",
        "env.render(mode=\"ipython\", width=500, height=450)\n",
        "\n"
      ],
      "execution_count": null,
      "outputs": []
    },
    {
      "cell_type": "code",
      "metadata": {
        "id": "-T0KMhQ_lqHO"
      },
      "source": [
        "# Graj jako pierwsza pozycja przeciwko losowemu agentowi.\n",
        "trainer = env.train([None, \"random\"])\n",
        "\n",
        "observation = trainer.reset()\n",
        "\n",
        "while not env.done:\n",
        "    moj_ruch = moj_agent(observation, env.configuration)\n",
        "    print(\"Mój ruch: \", moj_ruch)\n",
        "    observation, reward, done, info = trainer.step(moj_ruch)\n",
        "    # env.render(mode=\"ipython\", width=100, height=90, header=False, controls=False)\n",
        "env.render()\n",
        "\n",
        "### Po wielokrotnym sprawdzeniu tej części kodu widać, że kompilator pokazuje różne wartości.\n",
        "\n"
      ],
      "execution_count": null,
      "outputs": []
    },
    {
      "cell_type": "code",
      "metadata": {
        "id": "mVKub9UplyDt"
      },
      "source": [
        "#W tej sekcji odbywa się ocena agenta\n",
        "def mean_reward(rewards):\n",
        "    return sum(r[0] for r in rewards) / float(len(rewards))\n",
        "\n",
        "#Oszacowanie wydajności, przy pomocy 20 odcinków.\n",
        "print(\"Mój agent przeciwko losowemu agentowi: \", mean_reward(evaluate(\"connectx\", [moj_agent, \"random\"], num_episodes=20)))\n",
        "print(\"Mój agent przeciwko losowemu agentowi: \", mean_reward(evaluate(\"connectx\", [moj_agent, \"negamax\"], num_episodes=20)))"
      ],
      "execution_count": null,
      "outputs": []
    },
    {
      "cell_type": "code",
      "metadata": {
        "id": "yk4AG28Smq9w"
      },
      "source": [
        "#Kliknij dowolną kolumnę\n",
        "env.play([None, \"negamax\"], width=500, height=450)\n",
        "\n"
      ],
      "execution_count": null,
      "outputs": []
    },
    {
      "cell_type": "code",
      "metadata": {
        "colab": {
          "base_uri": "https://localhost:8080/"
        },
        "id": "c-FkNGKSm0j5",
        "outputId": "cb2d2d84-f878-4b11-e87a-cc30dea3bf8c"
      },
      "source": [
        "##Zapis pliku \"submission.py\"\n",
        "import inspect\n",
        "import os\n",
        "\n",
        "def write_agent_to_file(function, file):\n",
        "    with open(file, \"a\" if os.path.exists(file) else \"w\") as f:\n",
        "        f.write(inspect.getsource(function))\n",
        "        print(function, \"written to\", file)\n",
        "\n",
        "write_agent_to_file(moj_agent, \"submission.py\")\n",
        "\n",
        "\n",
        "\n"
      ],
      "execution_count": null,
      "outputs": [
        {
          "output_type": "stream",
          "text": [
            "<function moj_agent at 0x7ff3108b02f0> written to submission.py\n"
          ],
          "name": "stdout"
        }
      ]
    },
    {
      "cell_type": "code",
      "metadata": {
        "id": "JhItrcj01rhj"
      },
      "source": [
        "##Zatwierdzenie przeslania\n",
        "import sys\n",
        "out = sys.stdout\n",
        "submission = utils.read_file(\"/kaggle/working/submission.py\")\n",
        "agent = utils.get_last_callable(submission)\n",
        "sys.stdout = out\n",
        "\n",
        "env = make(\"connectx\", debug=True)\n",
        "env.run([agent, agent])\n",
        "print(\"Success!\" if env.state[0].status == env.state[1].status == \"DONE\" else \"Failed...\")\n",
        "\n"
      ],
      "execution_count": null,
      "outputs": []
    }
  ]
}