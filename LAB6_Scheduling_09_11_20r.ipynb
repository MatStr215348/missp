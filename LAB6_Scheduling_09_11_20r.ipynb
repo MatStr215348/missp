{
  "nbformat": 4,
  "nbformat_minor": 0,
  "metadata": {
    "colab": {
      "name": "LAB6-Scheduling-09.11.20r.ipynb",
      "provenance": [],
      "collapsed_sections": []
    },
    "kernelspec": {
      "name": "python3",
      "display_name": "Python 3"
    }
  },
  "cells": [
    {
      "cell_type": "code",
      "metadata": {
        "id": "RQwdBm4gA5RW"
      },
      "source": [
        "#### To zadanie polega na stworzeniu optymalnego rozkładu dnia pracy sześciu pracowników w taki sposób, aby zaoszczędzić jak najwięcej pieniędzy.\n",
        "## Instalacja pulpa\n",
        "!pip install pulp\n",
        "##Import pulp\n",
        "import pulp\n",
        "print(pulp.__version__)\n",
        "#Instalacja sudo\n",
        "!sudo apt-get install coinor-cbc glpk-utils coinor-clp\n",
        "##Zdefiniowanie pracowników i przypisanie ile pieniędzy biorą za godzinę pracy\n",
        "Ania_koszt = 100\n",
        "Stefan_koszt = 50\n",
        "Hektor_koszt = 60\n",
        "Olaf_koszt = 40\n",
        "Lidia_koszt = 110\n",
        "Piotr_koszt = 70\n",
        "##Zdefiniowanie problemu jako minimalny\n",
        "problem_zmianowy = pulp.LpProblem(\"jakie_dni\", pulp.LpMinimize)\n",
        "###Zadeklarowanie w jakie dni może pracować każdy z pracowników\n",
        "Ania_pon=pulp.LpVariable(\"Ania_poniedzialek\",0,1)\n",
        "Ania_wt=pulp.LpVariable(\"Ania_wtorek\",0,1)\n",
        "Ania_sr=pulp.LpVariable(\"Ania_sroda\",0,1)\n",
        "Ania_czw=pulp.LpVariable(\"Ania_czwartek\",0,1)\n",
        "Ania_pt=pulp.LpVariable(\"Ania_piatek\",0,1)\n",
        "Stefan_pon=pulp.LpVariable(\"Stefan_poniedzialek\",0,1)\n",
        "Hektor_pon=pulp.LpVariable(\"Hektor_poniedzialek\",0,1)\n",
        "Hektor_wt=pulp.LpVariable(\"Hektor_wtorek\",0,1)\n",
        "Hektor_sr=pulp.LpVariable(\"Hektor_sroda\",0,1)\n",
        "Olaf_pon=pulp.LpVariable(\"Olaf_poniedzialek\",0,1)\n",
        "Olaf_wt=pulp.LpVariable(\"Olaf_wtorek\",0,1)\n",
        "Olaf_sr=pulp.LpVariable(\"Olaf_sroda\",0,1)\n",
        "Olaf_czw=pulp.LpVariable(\"Olaf_czwartek\",0,1)\n",
        "Olaf_pt=pulp.LpVariable(\"Olaf_piatek\",0,1)\n",
        "Lidia_czw=pulp.LpVariable(\"Lidia_czwartek\",0,1)\n",
        "Lidia_pt=pulp.LpVariable(\"Lidia_piatek\",0,1)\n",
        "Piotr_pon=pulp.LpVariable(\"Piotr_poniedzialek\",0,1)\n",
        "Piotr_wt=pulp.LpVariable(\"Piotr_wtorek\",0,1)\n",
        "Piotr_sr=pulp.LpVariable(\"Piotr_sroda\",0,1)\n",
        "### Dodanie ograniczeń, które wziąłem z tabeli przedstawionej na laboratorium\n",
        "problem_zmianowy += 5*(Ania_koszt*(Ania_pon+Ania_wt+Ania_sr+Ania_czw+Ania_pt)+Stefan_koszt*(Stefan_pon)+Hektor_koszt*(Hektor_pon+Hektor_wt+Hektor_sr)+Olaf_koszt*(Olaf_pon+Olaf_wt+Olaf_sr+Olaf_czw+Olaf_pt)+Lidia_koszt*(Lidia_czw+Lidia_pt)+Piotr_koszt*(Piotr_pon+Piotr_wt+Piotr_sr))\n",
        "problem_zmianowy += Ania_pon+Ania_wt+Ania_sr+Ania_czw+Ania_pt <= 3\n",
        "problem_zmianowy += Olaf_pon+Olaf_wt+Olaf_sr+Olaf_czw+Olaf_pt <= 3\n",
        "problem_zmianowy += Ania_pon+Stefan_pon+Hektor_pon+Olaf_pon+Piotr_pon == 2\n",
        "problem_zmianowy += Ania_wt+Hektor_wt+Olaf_wt+Piotr_wt == 1\n",
        "problem_zmianowy += Ania_sr+Hektor_sr+Olaf_sr+Piotr_sr == 1\n",
        "problem_zmianowy += Ania_czw+Lidia_czw+Olaf_czw == 1\n",
        "problem_zmianowy += Ania_pt+Lidia_pt+Olaf_pt == 3\n",
        "###Rozwiązanie problemu zmianowego\n",
        "problem_zmianowy.solve()\n",
        "for variable in problem_zmiany.variables():\n",
        "    print (variable.name, \"=\", variable.varValue)\n",
        "#Zdefiniowanie kosztu pracy.\n",
        "koszt = Ania_koszt*(Ania_pon.value()+Ania_wt.value()+Ania_sr.value()+Ania_czw.value()+Ania_pt.value())+Hektor_koszt*(Hektor_pon.value()+Hektor_wt.value()+Hektor_sr.value())+Lidia_koszt*(Lidia_czw.value()+Lidia_pt.value())+Olaf_koszt*(Olaf_pon.value()+Olaf_wt.value()+Olaf_sr.value()+Olaf_czw.value()+Olaf_pt.value())+Piotr_koszt*(Piotr_pon.value()+Piotr_wt.value()+Piotr_sr.value())+Stefan_koszt*Stefan_pon.value()\n",
        "##Wyprintowanie kosztu całego tygodnia pracy sześciu pracowników zaoszczędzając przy tym jak najwięcej pieniędzy.\n",
        "print(\"Koszt całego tygodnia wynosi: \",koszt* 8,\" zł\")\n",
        "### Koszt całego tygnodnia wyniósł 4000 zł.\n"
      ],
      "execution_count": null,
      "outputs": []
    }
  ]
}