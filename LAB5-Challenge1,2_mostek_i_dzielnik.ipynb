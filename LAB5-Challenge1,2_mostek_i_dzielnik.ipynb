{
  "nbformat": 4,
  "nbformat_minor": 0,
  "metadata": {
    "colab": {
      "name": "Challenge1,2 mostek i dzielnik.ipynb",
      "provenance": [],
      "collapsed_sections": []
    },
    "kernelspec": {
      "display_name": "Python 3",
      "name": "python3"
    }
  },
  "cells": [
    {
      "cell_type": "code",
      "metadata": {
        "id": "1E1qGCeVQGQ2",
        "colab": {
          "base_uri": "https://localhost:8080/"
        },
        "outputId": "d48ddc39-a3ec-4125-c7c4-8c8daa572d0d"
      },
      "source": [
        "### Instalacja pulpa\n",
        "!pip install pulp"
      ],
      "execution_count": null,
      "outputs": [
        {
          "output_type": "stream",
          "text": [
            "Requirement already satisfied: pulp in /usr/local/lib/python3.6/dist-packages (2.3.1)\n",
            "Requirement already satisfied: amply>=0.1.2 in /usr/local/lib/python3.6/dist-packages (from pulp) (0.1.4)\n",
            "Requirement already satisfied: docutils>=0.3 in /usr/local/lib/python3.6/dist-packages (from amply>=0.1.2->pulp) (0.16)\n",
            "Requirement already satisfied: pyparsing in /usr/local/lib/python3.6/dist-packages (from amply>=0.1.2->pulp) (2.4.7)\n"
          ],
          "name": "stdout"
        }
      ]
    },
    {
      "cell_type": "code",
      "metadata": {
        "id": "ruVQvp5bQHBe",
        "colab": {
          "base_uri": "https://localhost:8080/"
        },
        "outputId": "ad1b6494-4554-45cb-d9c8-d127c44fc66a"
      },
      "source": [
        "#Import pulpa\n",
        "import pulp\n",
        "print(pulp.__version__)"
      ],
      "execution_count": null,
      "outputs": [
        {
          "output_type": "stream",
          "text": [
            "2.3.1\n"
          ],
          "name": "stdout"
        }
      ]
    },
    {
      "cell_type": "code",
      "metadata": {
        "id": "h4qf3lB4QIkH",
        "colab": {
          "base_uri": "https://localhost:8080/"
        },
        "outputId": "b57fd39b-b970-4d75-e1ac-f2ae85a4a0e4"
      },
      "source": [
        "#Instalacja sudo\n",
        "!sudo apt-get install coinor-cbc glpk-utils coinor-clp"
      ],
      "execution_count": null,
      "outputs": [
        {
          "output_type": "stream",
          "text": [
            "Reading package lists... Done\n",
            "Building dependency tree       \n",
            "Reading state information... Done\n",
            "coinor-cbc is already the newest version (2.9.9+repack1-1).\n",
            "coinor-clp is already the newest version (1.16.11+repack1-1).\n",
            "glpk-utils is already the newest version (4.65-1).\n",
            "0 upgraded, 0 newly installed, 0 to remove and 11 not upgraded.\n"
          ],
          "name": "stdout"
        }
      ]
    },
    {
      "cell_type": "code",
      "metadata": {
        "id": "ZhEbgf8iQnQK",
        "colab": {
          "background_save": true,
          "base_uri": "https://localhost:8080/"
        },
        "outputId": "77f205f2-ffd4-4fed-c0b7-1a52b913bafb"
      },
      "source": [
        "#To zadanie polegało na wyliczeniu wartości prądów w mostku rezystorowym\n",
        "##Zdefiniowanie problemu\n",
        "prob = LpProblem(\"Mostek_rezystorowy\",LpMinimize)\n",
        "###Stworzenie sześciu zmiennych prad1-5\n",
        "Prad1 = LpVariable(\"Prad1\",0)\n",
        "Prad2 = LpVariable(\"Prad2\",0)\n",
        "Prad3 = LpVariable(\"Prad3\",0)\n",
        "Prad4 = LpVariable(\"Prad4\",0)\n",
        "Prad5 = LpVariable(\"Prad5\",0)\n",
        "\n",
        "#Funkcja zysku\n",
        "prob += 6*Prad1 + 10*Prad2 + 4*Prad3 + 7*Prad4 + 3*Prad5, \"Moc minimalna\"\n",
        "#Poniższa część kodu zawiera ograniczenia\n",
        "prob += 3 <= Prad1, \"Prad1_minimalny\"\n",
        "prob += Prad1 <= 5, \"Prad1_maxymalny\"\n",
        "\n",
        "prob += 1 <= Prad2, \"Prad2_minimalny\"\n",
        "prob += Prad2 <= 3, \"Prad2_maxymalny\"\n",
        "\n",
        "prob += 1 <= Prad3, \"Prad3_minimalny\"\n",
        "prob += Prad3 <= 3, \"Prad3_maxymalny\"\n",
        "\n",
        "prob += 1 <= Prad4, \"Prad4_minimalny\"\n",
        "prob += Prad4 <= 3, \"Prad4_maxymalny\"\n",
        "\n",
        "prob += 3 <= Prad5, \"Prad5_minimalny\"\n",
        "prob += Prad5 <= 5, \"Prad5_maxymalny\"\n",
        "\n",
        "#Zapis problemu\n",
        "prob.writeLP(\"MostekModel.lp\")\n",
        "## Rozwiązanie problemu\n",
        "prob.solve()\n",
        "\n",
        "print (\"Status:\", LpStatus[prob.status])\n",
        "\n",
        "for v in prob.variables():\n",
        "    print (v.name, \"=\", v.varValue)\n",
        "## Wyprintowanie wartości, których szukamy\n",
        "print(\"R1=\", 6/Prad1.varValue,\"kOhm\")\n",
        "print(\"R2=\", 10/Prad2.varValue,\"kOhm\")\n",
        "print(\"R2=\", 4/Prad3.varValue,\"kOhm\")\n",
        "print(\"R4=\", 7/Prad4.varValue,\"kOhm\")\n",
        "print(\"R5=\", 3/Prad5.varValue,\"kOhm\")\n"
      ],
      "execution_count": null,
      "outputs": [
        {
          "output_type": "stream",
          "text": [
            "Status: Optimal\n",
            "Prad1 = 3.0\n",
            "Prad2 = 1.0\n",
            "Prad3 = 1.0\n",
            "Prad4 = 1.0\n",
            "Prad5 = 3.0\n",
            "R1= 2.0 kOhm\n",
            "R2= 10.0 kOhm\n",
            "R2= 4.0 kOhm\n",
            "R4= 7.0 kOhm\n",
            "R5= 1.0 kOhm\n"
          ],
          "name": "stdout"
        }
      ]
    },
    {
      "cell_type": "code",
      "metadata": {
        "id": "xO7ZBk6el9zV",
        "colab": {
          "base_uri": "https://localhost:8080/"
        },
        "outputId": "3c9cc25f-34ed-4386-b768-38891ca31153"
      },
      "source": [
        "#To zadanie polegało na obliczeniu prądów w dzielniku prądu\n",
        "##Stworzenie głównej funkcji o nazwie dzielnik\n",
        "prob = LpProblem(\"Dzielnik\",LpMaximize)\n",
        "####Stworzenie pięciu zmiennych przypisanych prądom.\n",
        "Prad1 = LpVariable(\"Prad1\",0)\n",
        "Prad2 = LpVariable(\"Prad2\",0)\n",
        "Prad3 = LpVariable(\"Prad3\",0)\n",
        "Prad4 = LpVariable(\"Prad4\",0)\n",
        "Prad5 = LpVariable(\"Prad5\",0)\n",
        "###Poniżej został przedstawiony schemat postępowania, dzięki któremu znajdziemy szukane wartości.\n",
        "prob += Prad3, \"MaxPradUkladu\"\n",
        "\n",
        "prob += Prad1 + Prad2 == Prad3, \"Prad31\"\n",
        "prob += Prad5 + Prad4 == Prad3, \"Prad32\"\n",
        "\n",
        "prob += Prad1*8 == Prad2*6, \"NapieciePierwszeOczko\"\n",
        "prob += Prad5*8 == Prad4*10, \"NapiecieDrugieOczko\"\n",
        "\n",
        "prob += Prad1 <= 2, \"Prad1_max\"\n",
        "prob += Prad2 <= 3, \"Prad2_max\"\n",
        "prob += Prad3 <= 4, \"Prad3_max\"\n",
        "prob += Prad4 <= 2, \"Prad4_max\"\n",
        "prob += Prad5 <= 2, \"Prad5_max\"\n",
        "###Zapis problemu i jego rozwiązanie numeryczne\n",
        "prob.writeLP(\"UkladModel.lp\")\n",
        "prob.solve()\n",
        "print (\"Status:\", LpStatus[prob.status])\n",
        "\n",
        "for v in prob.variables():\n",
        "    print (v.name, \"=\", v.varValue)\n",
        "##Wyprintowanie szukanych wartości\n",
        "print(\"Maksymalny prad dzielnika:\",Prad3.varValue,\"A\")\n",
        "###Maksymalny prąd dzielnika przy powyższych założeniach wynosi 3.6A"
      ],
      "execution_count": null,
      "outputs": [
        {
          "output_type": "stream",
          "text": [
            "Status: Optimal\n",
            "Prad1 = 1.5428571\n",
            "Prad2 = 2.0571429\n",
            "Prad3 = 3.6\n",
            "Prad4 = 1.6\n",
            "Prad5 = 2.0\n",
            "Maksymalny prad dzielnika: 3.6 A\n"
          ],
          "name": "stdout"
        }
      ]
    }
  ]
}