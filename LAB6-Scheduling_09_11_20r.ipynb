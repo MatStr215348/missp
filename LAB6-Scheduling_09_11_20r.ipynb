{
  "nbformat": 4,
  "nbformat_minor": 0,
  "metadata": {
    "colab": {
      "name": "Scheduling-09.11.20r.ipynb",
      "provenance": [],
      "collapsed_sections": []
    },
    "kernelspec": {
      "name": "python3",
      "display_name": "Python 3"
    }
  },
  "cells": [
    {
      "cell_type": "code",
      "metadata": {
        "id": "RQwdBm4gA5RW",
        "colab": {
          "base_uri": "https://localhost:8080/"
        },
        "outputId": "6874f812-0ed8-4b38-90a2-b0e38e694a67"
      },
      "source": [
        "#### To zadanie polega na stworzeniu optymalnego rozkładu dnia pracy sześciu pracowników w taki sposób, aby zaoszczędzić jak najwięcej pieniędzy.\n",
        "## Instalacja pulpa\n",
        "!pip install pulp\n",
        "##Import pulp\n",
        "import pulp\n",
        "print(pulp.__version__)\n",
        "#Instalacja sudo\n",
        "!sudo apt-get install coinor-cbc glpk-utils coinor-clp\n",
        "##Zdefiniowanie pracowników i przypisanie ile pieniędzy biorą za godzinę pracy\n",
        "Ania_koszt = 100\n",
        "Stefan_koszt = 50\n",
        "Hektor_koszt = 60\n",
        "Olaf_koszt = 40\n",
        "Lidia_koszt = 110\n",
        "Piotr_koszt = 70\n",
        "##Zdefiniowanie problemu jako minimalny\n",
        "problem_zmianowy = pulp.LpProblem(\"jakie_dni\", pulp.LpMinimize)\n",
        "###Zadeklarowanie w jakie dni może pracować każdy z pracowników\n",
        "Ania_pon=pulp.LpVariable(\"Ania_poniedzialek\",0,1)\n",
        "Ania_wt=pulp.LpVariable(\"Ania_wtorek\",0,1)\n",
        "Ania_sr=pulp.LpVariable(\"Ania_sroda\",0,1)\n",
        "Ania_czw=pulp.LpVariable(\"Ania_czwartek\",0,1)\n",
        "Ania_pt=pulp.LpVariable(\"Ania_piatek\",0,1)\n",
        "Stefan_pon=pulp.LpVariable(\"Stefan_poniedzialek\",0,1)\n",
        "Hektor_pon=pulp.LpVariable(\"Hektor_poniedzialek\",0,1)\n",
        "Hektor_wt=pulp.LpVariable(\"Hektor_wtorek\",0,1)\n",
        "Hektor_sr=pulp.LpVariable(\"Hektor_sroda\",0,1)\n",
        "Olaf_pon=pulp.LpVariable(\"Olaf_poniedzialek\",0,1)\n",
        "Olaf_wt=pulp.LpVariable(\"Olaf_wtorek\",0,1)\n",
        "Olaf_sr=pulp.LpVariable(\"Olaf_sroda\",0,1)\n",
        "Olaf_czw=pulp.LpVariable(\"Olaf_czwartek\",0,1)\n",
        "Olaf_pt=pulp.LpVariable(\"Olaf_piatek\",0,1)\n",
        "Lidia_czw=pulp.LpVariable(\"Lidia_czwartek\",0,1)\n",
        "Lidia_pt=pulp.LpVariable(\"Lidia_piatek\",0,1)\n",
        "Piotr_pon=pulp.LpVariable(\"Piotr_poniedzialek\",0,1)\n",
        "Piotr_wt=pulp.LpVariable(\"Piotr_wtorek\",0,1)\n",
        "Piotr_sr=pulp.LpVariable(\"Piotr_sroda\",0,1)\n",
        "### Dodanie ograniczeń, które wziąłem z tabeli przedstawionej na laboratorium\n",
        "problem_zmianowy += 5*(Ania_koszt*(Ania_pon+Ania_wt+Ania_sr+Ania_czw+Ania_pt)+Stefan_koszt*(Stefan_pon)+Hektor_koszt*(Hektor_pon+Hektor_wt+Hektor_sr)+Olaf_koszt*(Olaf_pon+Olaf_wt+Olaf_sr+Olaf_czw+Olaf_pt)+Lidia_koszt*(Lidia_czw+Lidia_pt)+Piotr_koszt*(Piotr_pon+Piotr_wt+Piotr_sr))\n",
        "problem_zmianowy += Ania_pon+Ania_wt+Ania_sr+Ania_czw+Ania_pt <= 3\n",
        "problem_zmianowy += Olaf_pon+Olaf_wt+Olaf_sr+Olaf_czw+Olaf_pt <= 3\n",
        "problem_zmianowy += Ania_pon+Stefan_pon+Hektor_pon+Olaf_pon+Piotr_pon == 2\n",
        "problem_zmianowy += Ania_wt+Hektor_wt+Olaf_wt+Piotr_wt == 1\n",
        "problem_zmianowy += Ania_sr+Hektor_sr+Olaf_sr+Piotr_sr == 1\n",
        "problem_zmianowy += Ania_czw+Lidia_czw+Olaf_czw == 1\n",
        "problem_zmianowy += Ania_pt+Lidia_pt+Olaf_pt == 3\n",
        "###Rozwiązanie problemu zmianowego\n",
        "problem_zmianowy.solve()\n",
        "for variable in problem_zmiany.variables():\n",
        "    print (variable.name, \"=\", variable.varValue)\n",
        "#Zdefiniowanie kosztu pracy.\n",
        "koszt = Ania_koszt*(Ania_pon.value()+Ania_wt.value()+Ania_sr.value()+Ania_czw.value()+Ania_pt.value())+Hektor_koszt*(Hektor_pon.value()+Hektor_wt.value()+Hektor_sr.value())+Lidia_koszt*(Lidia_czw.value()+Lidia_pt.value())+Olaf_koszt*(Olaf_pon.value()+Olaf_wt.value()+Olaf_sr.value()+Olaf_czw.value()+Olaf_pt.value())+Piotr_koszt*(Piotr_pon.value()+Piotr_wt.value()+Piotr_sr.value())+Stefan_koszt*Stefan_pon.value()\n",
        "##Wyprintowanie kosztu całego tygodnia pracy sześciu pracowników zaoszczędzając przy tym jak najwięcej pieniędzy.\n",
        "print(\"Koszt całego tygodnia wynosi: \",koszt* 8,\" zł\")\n",
        "### Koszt całego tygnodnia wyniósł 4000 zł.\n"
      ],
      "execution_count": 15,
      "outputs": [
        {
          "output_type": "stream",
          "text": [
            "Requirement already satisfied: pulp in /usr/local/lib/python3.6/dist-packages (2.3.1)\n",
            "Requirement already satisfied: amply>=0.1.2 in /usr/local/lib/python3.6/dist-packages (from pulp) (0.1.4)\n",
            "Requirement already satisfied: pyparsing in /usr/local/lib/python3.6/dist-packages (from amply>=0.1.2->pulp) (2.4.7)\n",
            "Requirement already satisfied: docutils>=0.3 in /usr/local/lib/python3.6/dist-packages (from amply>=0.1.2->pulp) (0.16)\n",
            "2.3.1\n",
            "Reading package lists... Done\n",
            "Building dependency tree       \n",
            "Reading state information... Done\n",
            "coinor-cbc is already the newest version (2.9.9+repack1-1).\n",
            "coinor-clp is already the newest version (1.16.11+repack1-1).\n",
            "glpk-utils is already the newest version (4.65-1).\n",
            "0 upgraded, 0 newly installed, 0 to remove and 14 not upgraded.\n",
            "Ania_czwartek = 0.0\n",
            "Ania_piatek = 1.0\n",
            "Ania_poniedzialek = 0.0\n",
            "Ania_sroda = 0.0\n",
            "Ania_wtorek = 0.0\n",
            "Hektor_poniedzialek = 1.0\n",
            "Hektor_sroda = 1.0\n",
            "Hektor_wtorek = 0.0\n",
            "Lidia_czwartek = 0.0\n",
            "Lidia_piatek = 1.0\n",
            "Olaf_czwartek = 1.0\n",
            "Olaf_piatek = 1.0\n",
            "Olaf_poniedzialek = 0.0\n",
            "Olaf_sroda = 0.0\n",
            "Olaf_wtorek = 1.0\n",
            "Piotr_poniedzialek = 0.0\n",
            "Piotr_sroda = 0.0\n",
            "Piotr_wtorek = 0.0\n",
            "Stefan_poniedzialek = 1.0\n",
            "Koszt całego tygodnia wynosi:  4000.0  zł\n"
          ],
          "name": "stdout"
        }
      ]
    }
  ]
}